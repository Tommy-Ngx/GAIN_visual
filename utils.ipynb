{
 "cells": [
  {
   "cell_type": "code",
   "execution_count": 1,
   "metadata": {},
   "outputs": [
    {
     "data": {
      "text/plain": [
       "'Utility functions for GAIN.\\n\\n(1) normalization: MinMax Normalizer\\n(2) renormalization: Recover the data from normalzied data\\n(3) rounding: Handlecategorical variables after imputation\\n(4) rmse_loss: Evaluate imputed data in terms of RMSE\\n(5) xavier_init: Xavier initialization\\n(6) binary_sampler: sample binary random variables\\n(7) uniform_sampler: sample uniform random variables\\n(8) sample_batch_index: sample random batch index\\n'"
      ]
     },
     "execution_count": 1,
     "metadata": {},
     "output_type": "execute_result"
    }
   ],
   "source": [
    "'''Utility functions for GAIN.\n",
    "\n",
    "(1) normalization: MinMax Normalizer\n",
    "(2) renormalization: Recover the data from normalzied data\n",
    "(3) rounding: Handlecategorical variables after imputation\n",
    "(4) rmse_loss: Evaluate imputed data in terms of RMSE\n",
    "(5) xavier_init: Xavier initialization\n",
    "(6) binary_sampler: sample binary random variables\n",
    "(7) uniform_sampler: sample uniform random variables\n",
    "(8) sample_batch_index: sample random batch index\n",
    "'''"
   ]
  },
  {
   "cell_type": "code",
   "execution_count": 2,
   "metadata": {},
   "outputs": [],
   "source": [
    "# Necessary packages\n",
    "import numpy as np\n",
    "import tensorflow as tf\n",
    "#tf.disable_v2_behavior()\n",
    "#tf.disable_eager_execution()"
   ]
  },
  {
   "cell_type": "code",
   "execution_count": 3,
   "metadata": {},
   "outputs": [],
   "source": [
    "def normalization (data):\n",
    "  '''Normalize data in [0, 1] range.\n",
    "  \n",
    "  Args:\n",
    "    - data: original data\n",
    "  \n",
    "  Returns:\n",
    "    - norm_data: normalized data\n",
    "    - norm_parameters: min_val, max_val for each feature for renormalization\n",
    "  '''\n",
    "\n",
    "  # Parameters\n",
    "  _, dim = data.shape\n",
    "  norm_data = data.copy()\n",
    "  \n",
    "  # MixMax normalization\n",
    "  min_val = np.zeros(dim)\n",
    "  max_val = np.zeros(dim)\n",
    "  \n",
    "  # For each dimension\n",
    "  for i in range(dim):\n",
    "    min_val[i] = np.nanmin(norm_data[:,i])\n",
    "    norm_data[:,i] = norm_data[:,i] - np.nanmin(norm_data[:,i])\n",
    "    max_val[i] = np.nanmax(norm_data[:,i])\n",
    "    norm_data[:,i] = norm_data[:,i] / (np.nanmax(norm_data[:,i]) + 1e-6)   \n",
    "    \n",
    "  # Return norm_parameters for renormalization\n",
    "  norm_parameters = {'min_val': min_val,\n",
    "                     'max_val': max_val}\n",
    "      \n",
    "  return norm_data, norm_parameters"
   ]
  },
  {
   "cell_type": "code",
   "execution_count": 4,
   "metadata": {},
   "outputs": [],
   "source": [
    "def renormalization (norm_data, norm_parameters):\n",
    "  '''Renormalize data from [0, 1] range to the original range.\n",
    "  \n",
    "  Args:\n",
    "    - norm_data: normalized data\n",
    "    - norm_parameters: min_val, max_val for each feature for renormalization\n",
    "  \n",
    "  Returns:\n",
    "    - renorm_data: renormalized original data\n",
    "  '''\n",
    "  \n",
    "  min_val = norm_parameters['min_val']\n",
    "  max_val = norm_parameters['max_val']\n",
    "\n",
    "  _, dim = norm_data.shape\n",
    "  renorm_data = norm_data.copy()\n",
    "    \n",
    "  for i in range(dim):\n",
    "    renorm_data[:,i] = renorm_data[:,i] * (max_val[i] + 1e-6)   \n",
    "    renorm_data[:,i] = renorm_data[:,i] + min_val[i]\n",
    "    \n",
    "  return renorm_data"
   ]
  },
  {
   "cell_type": "code",
   "execution_count": 5,
   "metadata": {},
   "outputs": [],
   "source": [
    "def rounding (imputed_data, data_x):\n",
    "  '''Round imputed data for categorical variables.\n",
    "  \n",
    "  Args:\n",
    "    - imputed_data: imputed data\n",
    "    - data_x: original data with missing values\n",
    "    \n",
    "  Returns:\n",
    "    - rounded_data: rounded imputed data\n",
    "  '''\n",
    "  \n",
    "  _, dim = data_x.shape\n",
    "  rounded_data = imputed_data.copy()\n",
    "  \n",
    "  for i in range(dim):\n",
    "    temp = data_x[~np.isnan(data_x[:, i]), i]\n",
    "    # Only for the categorical variable\n",
    "    if len(np.unique(temp)) < 20:\n",
    "      rounded_data[:, i] = np.round(rounded_data[:, i])\n",
    "      \n",
    "  return rounded_data"
   ]
  },
  {
   "cell_type": "code",
   "execution_count": 6,
   "metadata": {},
   "outputs": [],
   "source": [
    "def rmse_loss (ori_data, imputed_data, data_m):\n",
    "  '''Compute RMSE loss between ori_data and imputed_data\n",
    "  \n",
    "  Args:\n",
    "    - ori_data: original data without missing values\n",
    "    - imputed_data: imputed data\n",
    "    - data_m: indicator matrix for missingness\n",
    "    \n",
    "  Returns:\n",
    "    - rmse: Root Mean Squared Error\n",
    "  '''\n",
    "  \n",
    "  ori_data, _ = normalization(ori_data)\n",
    "  imputed_data, _ = normalization(imputed_data)\n",
    "    \n",
    "  # Only for missing values\n",
    "  nominator = np.sum(((1-data_m) * ori_data - (1-data_m) * imputed_data)**2)\n",
    "  denominator = np.sum(1-data_m)\n",
    "  \n",
    "  rmse = np.sqrt(nominator/float(denominator))\n",
    "  \n",
    "  return rmse"
   ]
  },
  {
   "cell_type": "code",
   "execution_count": 7,
   "metadata": {},
   "outputs": [],
   "source": [
    "def xavier_init(size):\n",
    "  '''Xavier initialization.\n",
    "  \n",
    "  Args:\n",
    "    - size: vector size\n",
    "    \n",
    "  Returns:\n",
    "    - initialized random vector.\n",
    "  '''\n",
    "  in_dim = size[0]\n",
    "  xavier_stddev = 1. / tf.sqrt(in_dim / 2.)\n",
    "  return tf.random_normal(shape = size, stddev = xavier_stddev)"
   ]
  },
  {
   "cell_type": "code",
   "execution_count": 8,
   "metadata": {},
   "outputs": [],
   "source": [
    "def binary_sampler(p, rows, cols):\n",
    "  '''Sample binary random variables.\n",
    "  \n",
    "  Args:\n",
    "    - p: probability of 1\n",
    "    - rows: the number of rows\n",
    "    - cols: the number of columns\n",
    "    \n",
    "  Returns:\n",
    "    - binary_random_matrix: generated binary random matrix.\n",
    "  '''\n",
    "  unif_random_matrix = np.random.uniform(0., 1., size = [rows, cols])\n",
    "  binary_random_matrix = 1*(unif_random_matrix < p)\n",
    "  return binary_random_matrix"
   ]
  },
  {
   "cell_type": "code",
   "execution_count": 9,
   "metadata": {},
   "outputs": [],
   "source": [
    "def uniform_sampler(low, high, rows, cols):\n",
    "  '''Sample uniform random variables.\n",
    "  \n",
    "  Args:\n",
    "    - low: low limit\n",
    "    - high: high limit\n",
    "    - rows: the number of rows\n",
    "    - cols: the number of columns\n",
    "    \n",
    "  Returns:\n",
    "    - uniform_random_matrix: generated uniform random matrix.\n",
    "  '''\n",
    "  return np.random.uniform(low, high, size = [rows, cols])       "
   ]
  },
  {
   "cell_type": "code",
   "execution_count": 10,
   "metadata": {},
   "outputs": [],
   "source": [
    "def sample_batch_index(total, batch_size):\n",
    "  '''Sample index of the mini-batch.\n",
    "  \n",
    "  Args:\n",
    "    - total: total number of samples\n",
    "    - batch_size: batch size\n",
    "    \n",
    "  Returns:\n",
    "    - batch_idx: batch index\n",
    "  '''\n",
    "  total_idx = np.random.permutation(total)\n",
    "  batch_idx = total_idx[:batch_size]\n",
    "  return batch_idx"
   ]
  },
  {
   "cell_type": "code",
   "execution_count": null,
   "metadata": {
    "lines_to_next_cell": 2
   },
   "outputs": [],
   "source": []
  }
 ],
 "metadata": {
  "jupytext": {
   "cell_metadata_filter": "-all",
   "main_language": "python",
   "notebook_metadata_filter": "-all"
  },
  "kernelspec": {
   "display_name": "Python 3",
   "language": "python",
   "name": "python3"
  },
  "language_info": {
   "codemirror_mode": {
    "name": "ipython",
    "version": 3
   },
   "file_extension": ".py",
   "mimetype": "text/x-python",
   "name": "python",
   "nbconvert_exporter": "python",
   "pygments_lexer": "ipython3",
   "version": "3.7.6"
  }
 },
 "nbformat": 4,
 "nbformat_minor": 4
}
