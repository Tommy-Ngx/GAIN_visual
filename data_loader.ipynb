{
 "cells": [
  {
   "cell_type": "code",
   "execution_count": 1,
   "metadata": {},
   "outputs": [
    {
     "data": {
      "text/plain": [
       "'Data loader for UCI letter, spam and MNIST datasets.\\n'"
      ]
     },
     "execution_count": 1,
     "metadata": {},
     "output_type": "execute_result"
    }
   ],
   "source": [
    "'''Data loader for UCI letter, spam and MNIST datasets.\n",
    "'''"
   ]
  },
  {
   "cell_type": "code",
   "execution_count": 2,
   "metadata": {},
   "outputs": [
    {
     "name": "stderr",
     "output_type": "stream",
     "text": [
      "Using TensorFlow backend.\n"
     ]
    }
   ],
   "source": [
    "# Necessary packages\n",
    "import numpy as np\n",
    "from utils import binary_sampler\n",
    "from keras.datasets import mnist"
   ]
  },
  {
   "cell_type": "code",
   "execution_count": 3,
   "metadata": {},
   "outputs": [],
   "source": [
    "def data_loader (data_name, miss_rate):\n",
    "  '''Loads datasets and introduce missingness.\n",
    "  \n",
    "  Args:\n",
    "    - data_name: letter, spam, or mnist\n",
    "    - miss_rate: the probability of missing components\n",
    "    \n",
    "  Returns:\n",
    "    data_x: original data\n",
    "    miss_data_x: data with missing values\n",
    "    data_m: indicator matrix for missing components\n",
    "  '''\n",
    "  \n",
    "  # Load data\n",
    "  if data_name in ['letter', 'spam']:\n",
    "    file_name = 'data/'+data_name+'.csv'\n",
    "    data_x = np.loadtxt(file_name, delimiter=\",\", skiprows=1)\n",
    "  elif data_name == 'mnist':\n",
    "    (data_x, _), _ = mnist.load_data()\n",
    "    data_x = np.reshape(np.asarray(data_x), [60000, 28*28]).astype(float)\n",
    "\n",
    "  # Parameters\n",
    "  no, dim = data_x.shape\n",
    "  \n",
    "  # Introduce missing data\n",
    "  data_m = binary_sampler(1-miss_rate, no, dim)\n",
    "  miss_data_x = data_x.copy()\n",
    "  miss_data_x[data_m == 0] = np.nan\n",
    "      \n",
    "  return data_x, miss_data_x, data_m"
   ]
  },
  {
   "cell_type": "code",
   "execution_count": null,
   "metadata": {},
   "outputs": [],
   "source": []
  }
 ],
 "metadata": {
  "jupytext": {
   "cell_metadata_filter": "-all",
   "main_language": "python",
   "notebook_metadata_filter": "-all"
  },
  "kernelspec": {
   "display_name": "Python 3",
   "language": "python",
   "name": "python3"
  },
  "language_info": {
   "codemirror_mode": {
    "name": "ipython",
    "version": 3
   },
   "file_extension": ".py",
   "mimetype": "text/x-python",
   "name": "python",
   "nbconvert_exporter": "python",
   "pygments_lexer": "ipython3",
   "version": "3.7.6"
  }
 },
 "nbformat": 4,
 "nbformat_minor": 4
}
